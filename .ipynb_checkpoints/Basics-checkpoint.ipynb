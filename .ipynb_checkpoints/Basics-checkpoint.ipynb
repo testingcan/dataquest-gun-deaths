{
 "cells": [
  {
   "cell_type": "code",
   "execution_count": 2,
   "metadata": {
    "collapsed": true
   },
   "outputs": [],
   "source": [
    "import csv\n",
    "import datetime"
   ]
  },
  {
   "cell_type": "markdown",
   "metadata": {},
   "source": [
    "The dataset came from FiveThirtyEight, and can be found here. The dataset is stored in the guns.csv file. It contains information on gun deaths in the US from 2012 to 2014. Each row in the dataset represents a single fatality. The columns contain demographic and other information about the victim.\n",
    "\n",
    "In this project, we'll explore the dataset, and try to find patterns in the demographics of the victims. Our first step is to read the data in and take a look at it."
   ]
  },
  {
   "cell_type": "code",
   "execution_count": 3,
   "metadata": {},
   "outputs": [
    {
     "name": "stdout",
     "output_type": "stream",
     "text": [
      "[['1', '2012', '01', 'Suicide', '0', 'M', '34', 'Asian/Pacific Islander', '100', 'Home', '4'], ['2', '2012', '01', 'Suicide', '0', 'F', '21', 'White', '100', 'Street', '3'], ['3', '2012', '01', 'Suicide', '0', 'M', '60', 'White', '100', 'Other specified', '4'], ['4', '2012', '02', 'Suicide', '0', 'M', '64', 'White', '100', 'Home', '4'], ['5', '2012', '02', 'Suicide', '0', 'M', '31', 'White', '100', 'Other specified', '2']]\n"
     ]
    }
   ],
   "source": [
    "with open(\"data/guns.csv\",\"r\") as f:\n",
    "    csvreader = csv.reader(f)\n",
    "    data = list(csvreader)\n",
    "\n",
    "headers = data[0]\n",
    "data = data[1:]\n",
    "print(data[:5])"
   ]
  },
  {
   "cell_type": "markdown",
   "metadata": {},
   "source": [
    "The year column contains information on the year in which gun deaths occurred. We can use this column to calculate how many gun deaths happened in each year.\n",
    "\n",
    "We can perform this operation by creating a dictionary, then keeping count in the dictionary of how many times each element occurs in the year column."
   ]
  },
  {
   "cell_type": "code",
   "execution_count": 4,
   "metadata": {},
   "outputs": [
    {
     "name": "stdout",
     "output_type": "stream",
     "text": [
      "{'2012': 33563, '2013': 33636, '2014': 33599}\n"
     ]
    }
   ],
   "source": [
    "years = []\n",
    "for row in data:\n",
    "    years.append(row[1])\n",
    "\n",
    "year_counts = {}\n",
    "for year in years:\n",
    "    if year not in year_counts:\n",
    "        year_counts[year] = 1\n",
    "    else:\n",
    "        year_counts[year] += 1\n",
    "        \n",
    "print(year_counts)"
   ]
  },
  {
   "cell_type": "markdown",
   "metadata": {},
   "source": [
    "It looks like gun deaths didn't change much by year from 2012 to 2014. Let's see if gun deaths in the US change by month and year."
   ]
  },
  {
   "cell_type": "code",
   "execution_count": 5,
   "metadata": {
    "scrolled": true
   },
   "outputs": [
    {
     "name": "stdout",
     "output_type": "stream",
     "text": [
      "2012-01-01 00:00:00 2758\n",
      "2012-02-01 00:00:00 2357\n",
      "2012-03-01 00:00:00 2743\n",
      "2012-04-01 00:00:00 2795\n",
      "2012-05-01 00:00:00 2999\n",
      "2012-06-01 00:00:00 2826\n",
      "2012-07-01 00:00:00 3026\n",
      "2012-08-01 00:00:00 2954\n",
      "2012-09-01 00:00:00 2852\n",
      "2012-10-01 00:00:00 2733\n",
      "2012-11-01 00:00:00 2729\n",
      "2012-12-01 00:00:00 2791\n",
      "2013-01-01 00:00:00 2864\n",
      "2013-02-01 00:00:00 2375\n",
      "2013-03-01 00:00:00 2862\n",
      "2013-04-01 00:00:00 2798\n",
      "2013-05-01 00:00:00 2806\n",
      "2013-06-01 00:00:00 2920\n",
      "2013-07-01 00:00:00 3079\n",
      "2013-08-01 00:00:00 2859\n",
      "2013-09-01 00:00:00 2742\n",
      "2013-10-01 00:00:00 2808\n",
      "2013-11-01 00:00:00 2758\n",
      "2013-12-01 00:00:00 2765\n",
      "2014-01-01 00:00:00 2651\n",
      "2014-02-01 00:00:00 2361\n",
      "2014-03-01 00:00:00 2684\n",
      "2014-04-01 00:00:00 2862\n",
      "2014-05-01 00:00:00 2864\n",
      "2014-06-01 00:00:00 2931\n",
      "2014-07-01 00:00:00 2884\n",
      "2014-08-01 00:00:00 2970\n",
      "2014-09-01 00:00:00 2914\n",
      "2014-10-01 00:00:00 2865\n",
      "2014-11-01 00:00:00 2756\n",
      "2014-12-01 00:00:00 2857\n"
     ]
    }
   ],
   "source": [
    "dates = []\n",
    "for row in data:\n",
    "    dates.append(datetime.datetime(year=int(row[1]), month=int(row[2]), day=1))\n",
    "\n",
    "date_counts = {}\n",
    "for date in dates:\n",
    "    if date not in date_counts:\n",
    "        date_counts[date] = 1\n",
    "    else:\n",
    "        date_counts[date] += 1\n",
    "\n",
    "for date, count in date_counts.items():\n",
    "    print(date, count)"
   ]
  },
  {
   "cell_type": "markdown",
   "metadata": {},
   "source": [
    "The `sex` and `race` columns contain potentially interesting information on how gun deaths in the US vary by gender and race. Exploring both of these columns can be done with a similar dictionary counting technique to what we did earlier."
   ]
  },
  {
   "cell_type": "code",
   "execution_count": 6,
   "metadata": {},
   "outputs": [
    {
     "name": "stdout",
     "output_type": "stream",
     "text": [
      "M 86349\n",
      "F 14449\n",
      "Asian/Pacific Islander 1326\n",
      "White 66237\n",
      "Native American/Native Alaskan 917\n",
      "Black 23296\n",
      "Hispanic 9022\n"
     ]
    }
   ],
   "source": [
    "sex_counts = {}\n",
    "for row in data:\n",
    "    if row[5] not in sex_counts:\n",
    "        sex_counts[row[5]] = 1\n",
    "    else:\n",
    "        sex_counts[row[5]] += 1\n",
    "\n",
    "race_counts = {}\n",
    "for row in data:\n",
    "    if row[7] not in race_counts:\n",
    "        race_counts[row[7]] = 1\n",
    "    else:\n",
    "        race_counts[row[7]] += 1\n",
    "        \n",
    "for sex, count in sex_counts.items():\n",
    "    print(sex, count)\n",
    "\n",
    "for race, count in race_counts.items():\n",
    "    print(race, count)"
   ]
  },
  {
   "cell_type": "markdown",
   "metadata": {},
   "source": [
    "The data does not suggest any strong correlation between the month of the year and the number of gun deaths. Additionally the number of gun deaths did not in- or decrease that much from 2012 to 2014. \n",
    "\n",
    "However there is a very strong correlation between `sex` and the number of gun deaths and `race` and the number of gun deaths: \n",
    "\n",
    "* The vast majority of gun victims are male (86349) while female gun victims are far less common (14449).\n",
    "* Most gun victims are whie, followed by blacks, both accumulating to nearly 90000 gun victims in total. \n",
    "\n",
    "From here on, it might be interesting to analyze the cause of gun deaths and verify if there is any strong correlation between say sex, race and reason. An additional and very politicized issue would be to analyze whether police involvent correlates with the race of the victim. "
   ]
  },
  {
   "cell_type": "markdown",
   "metadata": {},
   "source": [
    "We explored gun deaths by race in the past screen. However, our analysis only gives us the total number of gun deaths by race in the US. Unless we know the proportion of each race in the US, we won't be able to meaningfully compare those numbers. What we really want to get is a rate of gun deaths per 100000 people of each race. In order to do this, we'll need to read in data about what percentage of the US population falls into each racial category. Luckily, we can import some census data to help us out."
   ]
  },
  {
   "cell_type": "code",
   "execution_count": 7,
   "metadata": {},
   "outputs": [],
   "source": [
    "with open(\"data/census.csv\", \"r\") as f:\n",
    "    csvreader = csv.reader(f)\n",
    "    census = list(f)\n",
    "    \n",
    "census_header = census[0]\n",
    "census = census[1]\n"
   ]
  },
  {
   "cell_type": "code",
   "execution_count": 8,
   "metadata": {},
   "outputs": [
    {
     "data": {
      "text/plain": [
       "{'Asian/Pacific Islander': 8.374,\n",
       " 'Black': 57.877,\n",
       " 'Hispanic': 20.22,\n",
       " 'Native American/Native Alaskan': 24.522,\n",
       " 'White': 33.568}"
      ]
     },
     "execution_count": 8,
     "metadata": {},
     "output_type": "execute_result"
    }
   ],
   "source": [
    "mapping = {\n",
    "    \"Asian/Pacific Islander\": 15159516 + 674625,\n",
    "    \"Black\": 40250635,\n",
    "    \"Native American/Native Alaskan\": 3739506,\n",
    "    \"Hispanic\": 44618105,\n",
    "    \"White\": 197318956\n",
    "}\n",
    "\n",
    "race_per_hundredk = {}\n",
    "\n",
    "for race in race_counts:\n",
    "    race_per_hundredk[race] = round((race_counts[race] / mapping[race]) * 100000, 3)\n",
    "\n",
    "race_per_hundredk"
   ]
  },
  {
   "cell_type": "markdown",
   "metadata": {},
   "source": [
    "We can filter our results, and restrict them to the Homicide intent. This will tell us what the gun-related murder rate per 100000 people in each racial category is. In order to do this, we'll need to redo our work in generating race_counts, but only count rows where the intent was Homicide."
   ]
  },
  {
   "cell_type": "code",
   "execution_count": 9,
   "metadata": {},
   "outputs": [
    {
     "data": {
      "text/plain": [
       "{'Asian/Pacific Islander': 3.53,\n",
       " 'Black': 48.47,\n",
       " 'Hispanic': 12.63,\n",
       " 'Native American/Native Alaskan': 8.72,\n",
       " 'White': 4.64}"
      ]
     },
     "execution_count": 9,
     "metadata": {},
     "output_type": "execute_result"
    }
   ],
   "source": [
    "intents = [x[3] for x in data]\n",
    "races = [x[7] for x in data]\n",
    "\n",
    "homicide_race_counts = {}\n",
    "\n",
    "for idx, race in enumerate(races):\n",
    "    if intents[idx] == \"Homicide\":\n",
    "        if race not in homicide_race_counts:\n",
    "            homicide_race_counts[race] = 1\n",
    "        else:\n",
    "            homicide_race_counts[race] += 1\n",
    "            \n",
    "for race in homicide_race_counts:\n",
    "    homicide_race_counts[race] = round((homicide_race_counts[race] / mapping[race]) * 100000, 2)\n",
    "\n",
    "homicide_race_counts"
   ]
  },
  {
   "cell_type": "markdown",
   "metadata": {},
   "source": [
    "When looking at the homicide per race per 100000, it becomes obvious, that although white persons may account for the most gun victims overall, the most amount of homicide victims are black. "
   ]
  }
 ],
 "metadata": {
  "kernelspec": {
   "display_name": "Python 3",
   "language": "python",
   "name": "python3"
  },
  "language_info": {
   "codemirror_mode": {
    "name": "ipython",
    "version": 3
   },
   "file_extension": ".py",
   "mimetype": "text/x-python",
   "name": "python",
   "nbconvert_exporter": "python",
   "pygments_lexer": "ipython3",
   "version": "3.6.1"
  }
 },
 "nbformat": 4,
 "nbformat_minor": 1
}
